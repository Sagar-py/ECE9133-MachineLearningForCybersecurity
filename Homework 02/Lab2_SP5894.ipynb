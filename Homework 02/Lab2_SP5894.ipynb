{
 "cells": [
  {
   "cell_type": "markdown",
   "metadata": {
    "id": "lahlilVxl2jI"
   },
   "source": [
    "# Machine Learning for Cybersecurity - Lab 02\n",
    "\n",
    "**Adversarial Attacks on Deep Neural Networks** </br> </br>\n",
    "**Name:** Sagar Patel </br>\n",
    "**NETID:** SP5894\n",
    "\n",
    "---"
   ]
  },
  {
   "cell_type": "markdown",
   "metadata": {
    "id": "G-eeA-viL3pg"
   },
   "source": [
    "## Part 0: Import packages and process data"
   ]
  },
  {
   "cell_type": "code",
   "execution_count": 1,
   "metadata": {
    "id": "Imrn7KRCL26w"
   },
   "outputs": [],
   "source": [
    "import tensorflow as tf\n",
    "import numpy as np\n",
    "import matplotlib.pyplot as plt\n",
    "import seaborn as sns\n",
    "from sklearn.metrics import confusion_matrix\n",
    "from numpy import newaxis"
   ]
  },
  {
   "cell_type": "code",
   "execution_count": 2,
   "metadata": {
    "colab": {
     "base_uri": "https://localhost:8080/"
    },
    "id": "0Is-5wOfMGsZ",
    "outputId": "78ae6004-a8ed-4a7c-a8cb-9b634f032ff1"
   },
   "outputs": [
    {
     "name": "stdout",
     "output_type": "stream",
     "text": [
      "Downloading data from https://storage.googleapis.com/tensorflow/tf-keras-datasets/mnist.npz\n",
      "11493376/11490434 [==============================] - 0s 0us/step\n",
      "11501568/11490434 [==============================] - 0s 0us/step\n"
     ]
    }
   ],
   "source": [
    "mnist = tf.keras.datasets.mnist\n",
    "\n",
    "(x_train, y_train), (x_test, y_test) = mnist.load_data()\n",
    "x_train, x_test = x_train / 255.0, x_test / 255.0"
   ]
  },
  {
   "cell_type": "code",
   "execution_count": 3,
   "metadata": {
    "colab": {
     "base_uri": "https://localhost:8080/"
    },
    "id": "KPTTfuPuMKAY",
    "outputId": "a3219022-f995-4c9c-c557-b43a466bb45d"
   },
   "outputs": [
    {
     "name": "stdout",
     "output_type": "stream",
     "text": [
      "(60000, 28, 28)\n",
      "(10000, 28, 28)\n",
      "<class 'numpy.ndarray'>\n"
     ]
    }
   ],
   "source": [
    "print(x_train.shape)\n",
    "print(x_test.shape)\n",
    "print(type(x_train))"
   ]
  },
  {
   "cell_type": "markdown",
   "metadata": {
    "id": "nJHYkAnWl8ka"
   },
   "source": [
    "We will visualize the data"
   ]
  },
  {
   "cell_type": "code",
   "execution_count": 4,
   "metadata": {
    "colab": {
     "base_uri": "https://localhost:8080/",
     "height": 482
    },
    "id": "mxR4-j_3MOI6",
    "outputId": "4f9b71b6-1591-4bf9-b995-2484ccee611f"
   },
   "outputs": [
    {
     "data": {
      "image/png": "[encoded data removed]",
      "text/plain": [
       "<Figure size 720x576 with 9 Axes>"
      ]
     },
     "metadata": {
      "needs_background": "light"
     },
     "output_type": "display_data"
    }
   ],
   "source": [
    "figure = plt.figure(figsize=(10,8))\n",
    "cols, rows = 3,3\n",
    "for i in range(1, cols*rows+1):\n",
    "  index = np.random.randint(x_train.shape[0], size=1)\n",
    "  img, label = (x_train[index], y_train[index])\n",
    "  figure.add_subplot(rows, cols, i)\n",
    "  plt.title(\"true label: {}\".format(label))\n",
    "  plt.axis(\"off\")\n",
    "  plt.imshow(img.squeeze(), cmap=\"gray\")\n",
    "plt.show()"
   ]
  },
  {
   "cell_type": "markdown",
   "metadata": {
    "id": "_205_JGll-HC"
   },
   "source": [
    "## Baseline DNN model\n",
    "The DNN has a 784 (28x28) dimensional input, a 10-dimensional output (prediction probabilities for each of the 10 classes) and one hidden layer with 300 hidden neurons and ReLU activations."
   ]
  },
  {
   "cell_type": "code",
   "execution_count": 5,
   "metadata": {
    "id": "X44oL9hXOCeK"
   },
   "outputs": [],
   "source": [
    "DNN = tf.keras.models.Sequential([\n",
    "  tf.keras.layers.Flatten(input_shape=(28, 28)),\n",
    "  tf.keras.layers.Dense(300, activation='relu'),\n",
    "  tf.keras.layers.Dense(10)                                 \n",
    "])"
   ]
  },
  {
   "cell_type": "code",
   "execution_count": 6,
   "metadata": {
    "id": "qJhCEeFMPAzC"
   },
   "outputs": [],
   "source": [
    "loss_fn = tf.keras.losses.SparseCategoricalCrossentropy(from_logits=True)"
   ]
  },
  {
   "cell_type": "code",
   "execution_count": 7,
   "metadata": {
    "id": "ECmpMGmXQNTC"
   },
   "outputs": [],
   "source": [
    "DNN.compile(optimizer='adam', loss=loss_fn,metrics=['accuracy'])"
   ]
  },
  {
   "cell_type": "code",
   "execution_count": 8,
   "metadata": {
    "colab": {
     "base_uri": "https://localhost:8080/"
    },
    "id": "CHXYZB5CQYvA",
    "outputId": "bd295b82-55f9-4a1c-9fb8-05ca678591ae"
   },
   "outputs": [
    {
     "name": "stdout",
     "output_type": "stream",
     "text": [
      "Epoch 1/5\n",
      "1875/1875 [==============================] - 7s 4ms/step - loss: 0.2161 - accuracy: 0.9371\n",
      "Epoch 2/5\n",
      "1875/1875 [==============================] - 6s 3ms/step - loss: 0.0890 - accuracy: 0.9732\n",
      "Epoch 3/5\n",
      "1875/1875 [==============================] - 6s 3ms/step - loss: 0.0594 - accuracy: 0.9812\n",
      "Epoch 4/5\n",
      "1875/1875 [==============================] - 6s 3ms/step - loss: 0.0417 - accuracy: 0.9868\n",
      "Epoch 5/5\n",
      "1875/1875 [==============================] - 6s 3ms/step - loss: 0.0311 - accuracy: 0.9901\n"
     ]
    },
    {
     "data": {
      "text/plain": [
       "<keras.callbacks.History at 0x7f00b0eb8690>"
      ]
     },
     "execution_count": 8,
     "metadata": {},
     "output_type": "execute_result"
    }
   ],
   "source": [
    "DNN.fit(x_train, y_train, epochs=5)"
   ]
  },
  {
   "cell_type": "code",
   "execution_count": 9,
   "metadata": {
    "colab": {
     "base_uri": "https://localhost:8080/"
    },
    "id": "kU5Hp4ZZQdyp",
    "outputId": "62b4f293-578c-4892-9609-ffb5d2474896"
   },
   "outputs": [
    {
     "name": "stdout",
     "output_type": "stream",
     "text": [
      "313/313 - 1s - loss: 0.0735 - accuracy: 0.9779 - 640ms/epoch - 2ms/step\n"
     ]
    }
   ],
   "source": [
    "res = DNN.evaluate(x_test,  y_test, verbose=2)"
   ]
  },
  {
   "cell_type": "code",
   "execution_count": 10,
   "metadata": {
    "id": "90fzuxkXRKvp"
   },
   "outputs": [],
   "source": [
    "def correct_classified(model, X, Y):\n",
    "  correct_classified_img = []\n",
    "  correct_classified_img_label = []\n",
    "  count = 0\n",
    "  \n",
    "  for i, img in enumerate(X):\n",
    "    img = img[newaxis, ...]\n",
    "    pred = model(img)\n",
    "    pred = tf.nn.softmax(pred)\n",
    "    pred = tf.math.argmax(pred, axis=1).numpy()\n",
    "    if pred == Y[i]:\n",
    "      count+=1\n",
    "      correct_classified_img.append(tf.convert_to_tensor(img, dtype=tf.float32))\n",
    "      correct_classified_img_label.append(tf.convert_to_tensor(Y[i]))\n",
    "  return count, correct_classified_img, correct_classified_img_label"
   ]
  },
  {
   "cell_type": "markdown",
   "metadata": {
    "id": "xZOGv7aVmdSs"
   },
   "source": [
    "## Part 01: FGSM based untargeted attacks\n",
    "\n",
    "Aiming to fool the neural network and output a label different than the original one. Non-target FGS method is expresed as $-$\n",
    "$$\n",
    "x'\\leftarrow clip(x+\\epsilon sign(\\triangledown \\mathcal{l}_{F,y^*}(x)))\n",
    "$$\n",
    "\n",
    "Here, $\\epsilon$ is a small constraint scalar, $\\mathcal{l}$ is the loss function"
   ]
  },
  {
   "cell_type": "code",
   "execution_count": 11,
   "metadata": {
    "id": "Q63xXK01XU6g"
   },
   "outputs": [],
   "source": [
    "def generate_perturb_untarget_img(model, X, Y, epsilon0):\n",
    "  X = tf.convert_to_tensor(X, dtype=tf.float32)\n",
    "  x_perturb = []\n",
    "    \n",
    "  x_tensor = tf.convert_to_tensor(X, dtype=tf.float32)\n",
    "  with tf.GradientTape() as tape:\n",
    "    tape.watch(X)\n",
    "    pred = model(X)\n",
    "    loss = loss_fn(Y, pred)\n",
    "  grad = tape.gradient(loss, X)\n",
    "  grad_sign = tf.sign(grad)\n",
    "  x_perturb.append(tf.clip_by_value((X + epsilon0 * grad_sign), clip_value_min = 0, clip_value_max = 1))\n",
    "  return x_perturb"
   ]
  },
  {
   "cell_type": "code",
   "execution_count": 12,
   "metadata": {
    "id": "Z9fcil-QfXd4"
   },
   "outputs": [],
   "source": [
    "def generate_perturb_untarget_correct_img(model, X, Y, epsilon0):\n",
    "  x_perturb = []\n",
    "  for i, img in enumerate(X):\n",
    "    img = tf.convert_to_tensor(img, dtype=tf.float32)\n",
    "         \n",
    "    x_tensor = tf.convert_to_tensor(img, dtype=tf.float32)\n",
    "    with tf.GradientTape() as tape:\n",
    "      tape.watch(img)\n",
    "      pred = model(img)\n",
    "      loss = loss_fn(Y[i], pred)\n",
    "    grad = tape.gradient(loss, img)\n",
    "    grad_sign = tf.sign(grad)\n",
    "    x_perturb.append(tf.clip_by_value((img + epsilon0 * grad_sign), clip_value_min = 0, clip_value_max = 1))\n",
    "  return x_perturb"
   ]
  },
  {
   "cell_type": "code",
   "execution_count": 13,
   "metadata": {
    "id": "nLrhykMCjhgd"
   },
   "outputs": [],
   "source": [
    "def cal_Perturb_classify_acc(model, perturbImg, Y):\n",
    "  pred = model.predict(perturbImg)\n",
    "  pred = tf.nn.softmax(pred)\n",
    "  pred = tf.math.argmax(pred, axis=1).numpy()\n",
    "  res = model.evaluate(perturbImg,  Y, verbose=2)\n",
    "  return res, pred"
   ]
  },
  {
   "cell_type": "code",
   "execution_count": 14,
   "metadata": {
    "id": "DV2WUVlLZo4u"
   },
   "outputs": [],
   "source": [
    "def cal_Perturb_correct_classify_acc(model, perturbImg, Y):\n",
    "  count = 0\n",
    "  pred_label = []\n",
    "  for i, img in enumerate(perturbImg):\n",
    "    pred = model(img)\n",
    "    pred = tf.nn.softmax(pred)\n",
    "    pred = tf.math.argmax(pred, axis=1).numpy()\n",
    "    if pred == Y[i]:\n",
    "      pred_label.append(pred)\n",
    "      count+=1\n",
    "  return count/len(Y), pred_label"
   ]
  },
  {
   "cell_type": "code",
   "execution_count": 15,
   "metadata": {
    "colab": {
     "base_uri": "https://localhost:8080/"
    },
    "id": "Vy9GdJg2apBH",
    "outputId": "dda329d6-4d64-46fe-89b5-d4d1eb2ddad6"
   },
   "outputs": [
    {
     "name": "stdout",
     "output_type": "stream",
     "text": [
      "313/313 - 1s - loss: 0.0931 - accuracy: 0.9712 - 702ms/epoch - 2ms/step\n",
      "313/313 - 1s - loss: 0.2236 - accuracy: 0.9341 - 630ms/epoch - 2ms/step\n",
      "313/313 - 1s - loss: 0.6091 - accuracy: 0.8207 - 593ms/epoch - 2ms/step\n",
      "313/313 - 1s - loss: 2.7031 - accuracy: 0.3581 - 606ms/epoch - 2ms/step\n",
      "313/313 - 1s - loss: 5.8300 - accuracy: 0.1253 - 660ms/epoch - 2ms/step\n",
      "313/313 - 1s - loss: 8.7994 - accuracy: 0.0628 - 611ms/epoch - 2ms/step\n",
      "313/313 - 1s - loss: 11.5274 - accuracy: 0.0319 - 604ms/epoch - 2ms/step\n"
     ]
    }
   ],
   "source": [
    "epsilons = [1/255, 5/255, 10/255, 20/255, 30/255, 40/255, 50/255]\n",
    "acc_untarget = []\n",
    "success_untarget_attack_rate = []\n",
    "numOfCorrectClassified, correct_classified_img, correct_classified_img_label = correct_classified(DNN, x_test, y_test)\n",
    "for eps in epsilons:\n",
    "  x_perturb = generate_perturb_untarget_img(DNN, x_test, y_test, eps)\n",
    "  acc, y_pred = cal_Perturb_classify_acc(DNN, x_perturb, y_test)\n",
    "  acc_untarget.append(acc[1])\n",
    "  \n",
    "  x_perturb_correct_classified = generate_perturb_untarget_correct_img(DNN, correct_classified_img, correct_classified_img_label, eps)\n",
    "  acc_perturb_classified, y_correct_pred = cal_Perturb_correct_classify_acc(DNN, x_perturb_correct_classified, correct_classified_img_label)\n",
    "  success_untarget_attack_rate.append(1-acc_perturb_classified)"
   ]
  },
  {
   "cell_type": "code",
   "execution_count": 16,
   "metadata": {
    "colab": {
     "base_uri": "https://localhost:8080/",
     "height": 295
    },
    "id": "z--rRIKSk4AY",
    "outputId": "81f22b0a-89aa-41b3-99bc-de9699e5f6b7"
   },
   "outputs": [
    {
     "data": {
      "text/plain": [
       "<matplotlib.legend.Legend at 0x7f00ab424550>"
      ]
     },
     "execution_count": 16,
     "metadata": {},
     "output_type": "execute_result"
    },
    {
     "data": {
      "image/png": "[encoded data removed]",
      "text/plain": [
       "<Figure size 432x288 with 1 Axes>"
      ]
     },
     "metadata": {
      "needs_background": "light"
     },
     "output_type": "display_data"
    }
   ],
   "source": [
    "plt.plot(epsilons,acc_untarget,marker='x')\n",
    "plt.plot(epsilons,success_untarget_attack_rate,marker='*')\n",
    "plt.xlabel('epsilon')\n",
    "plt.ylabel('rate')\n",
    "plt.legend(['DNN accuracy','success untarget attack rate'])"
   ]
  },
  {
   "cell_type": "code",
   "execution_count": 17,
   "metadata": {
    "colab": {
     "base_uri": "https://localhost:8080/"
    },
    "id": "liNAchtcfvg7",
    "outputId": "0b158a50-8169-446c-a853-fe011cb2a3e2"
   },
   "outputs": [
    {
     "name": "stdout",
     "output_type": "stream",
     "text": [
      "Untarget attack\n",
      "epsilon is:0.00392156862745098, success attack rate is: 0.006851416300235225\n",
      "epsilon is:0.0196078431372549, success attack rate is: 0.04478985581347783\n",
      "epsilon is:0.0392156862745098, success attack rate is: 0.16075263319357802\n",
      "epsilon is:0.0784313725490196, success attack rate is: 0.6338071377441457\n",
      "epsilon is:0.11764705882352941, success attack rate is: 0.8718682891911238\n",
      "epsilon is:0.1568627450980392, success attack rate is: 0.9357807546783925\n",
      "epsilon is:0.19607843137254902, success attack rate is: 0.9673790776152981\n"
     ]
    }
   ],
   "source": [
    "print(\"Untarget attack\")\n",
    "for i, eps in enumerate(epsilons):\n",
    "  print(\"epsilon is:{}, success attack rate is: {}\".format(eps, success_untarget_attack_rate[i]))"
   ]
  },
  {
   "cell_type": "markdown",
   "metadata": {
    "id": "2m3gWgXqmi2L"
   },
   "source": [
    "## Part 02: FGSM based targeted attacks\n",
    "\n",
    "Intentionally misleading the network to output a specific label designed by the attacker. The formula is given by $-$\n",
    "$$\n",
    "x'\\leftarrow clip(x-\\epsilon sign(\\triangledown \\mathcal{l}_{F,y'}(x)))\n",
    "$$\n",
    "\n",
    "Here, $\\epsilon$ is a small constraint scalar, $\\mathcal{l}$ is the loss function"
   ]
  },
  {
   "cell_type": "code",
   "execution_count": 18,
   "metadata": {
    "id": "trW_UnCkb_6l"
   },
   "outputs": [],
   "source": [
    "def generate_perturb_target_img(model, X, Y, epsilon):\n",
    "  y_test_modify = []\n",
    "  for i in Y:\n",
    "    y_test_modify.append((i+1)%10)\n",
    "  x_perturb = []   \n",
    "  x_tensor = tf.convert_to_tensor(X, dtype=tf.float32)\n",
    "  with tf.GradientTape() as tape:\n",
    "    tape.watch(x_tensor)\n",
    "    pred = model(x_tensor)\n",
    "    loss = loss_fn(y_test_modify, pred)\n",
    "  grad = tape.gradient(loss, x_tensor)\n",
    "  grad_sign = tf.sign(grad)\n",
    "  x_perturb.append(tf.clip_by_value((x_tensor - epsilon * grad_sign), clip_value_min = 0, clip_value_max = 1))\n",
    "  return x_perturb"
   ]
  },
  {
   "cell_type": "code",
   "execution_count": 19,
   "metadata": {
    "id": "EXKqJekGJTG9"
   },
   "outputs": [],
   "source": [
    "def generate_perturb_target_correct_img(model, X, Y, epsilon0):\n",
    "  y_test_modify = []\n",
    "  for i in Y:\n",
    "    y_test_modify.append((i+1)%10)\n",
    "    \n",
    "  x_perturb = []\n",
    "  for i, img in enumerate(X):   \n",
    "    x_tensor = tf.convert_to_tensor(img, dtype=tf.float32)\n",
    "    with tf.GradientTape() as tape:\n",
    "      tape.watch(x_tensor)\n",
    "      pred = model(x_tensor)\n",
    "      loss = loss_fn(y_test_modify[i], pred)\n",
    "    grad = tape.gradient(loss, x_tensor)\n",
    "    grad_sign = tf.sign(grad)\n",
    "    x_perturb.append(tf.clip_by_value((x_tensor - epsilon0 * grad_sign), clip_value_min = 0, clip_value_max = 1))\n",
    "  return x_perturb"
   ]
  },
  {
   "cell_type": "code",
   "execution_count": 20,
   "metadata": {
    "id": "FpbLCOnYOLd9"
   },
   "outputs": [],
   "source": [
    "def cal_Perturb_correct_classify_tar_acc(model, perturbImg, Y):\n",
    "  count = 0\n",
    "  pred_label = []\n",
    "  for i, img in enumerate(perturbImg):\n",
    "    pred = model(img)\n",
    "    pred = tf.nn.softmax(pred)\n",
    "    pred = tf.math.argmax(pred, axis=1).numpy()\n",
    "    pred_label.append(pred)\n",
    "    \n",
    "    if pred[0] == (Y[i]+1).numpy(): \n",
    "      pred_label.append(pred)\n",
    "      count+=1\n",
    "  return count/len(Y), pred_label"
   ]
  },
  {
   "cell_type": "code",
   "execution_count": 21,
   "metadata": {
    "colab": {
     "base_uri": "https://localhost:8080/"
    },
    "id": "besuVUKUnb3T",
    "outputId": "07e9af88-2368-43c4-b38d-5d71dbf9f73f"
   },
   "outputs": [
    {
     "name": "stdout",
     "output_type": "stream",
     "text": [
      "313/313 - 1s - loss: 0.0733 - accuracy: 0.9776 - 621ms/epoch - 2ms/step\n",
      "313/313 - 1s - loss: 0.0914 - accuracy: 0.9706 - 597ms/epoch - 2ms/step\n",
      "313/313 - 1s - loss: 0.2005 - accuracy: 0.9334 - 607ms/epoch - 2ms/step\n",
      "313/313 - 1s - loss: 1.3148 - accuracy: 0.6078 - 624ms/epoch - 2ms/step\n",
      "313/313 - 1s - loss: 3.9100 - accuracy: 0.2662 - 606ms/epoch - 2ms/step\n",
      "313/313 - 1s - loss: 6.9421 - accuracy: 0.0918 - 616ms/epoch - 2ms/step\n",
      "313/313 - 1s - loss: 9.8977 - accuracy: 0.0321 - 647ms/epoch - 2ms/step\n"
     ]
    }
   ],
   "source": [
    "acc_target = []\n",
    "success_target_attack_rate = []\n",
    "\n",
    "epsilons = [1/255, 5/255, 10/255, 20/255, 30/255, 40/255, 50/255]\n",
    "numOfCorrectClassifiedTar, correct_classified_tar_img, correct_classified_tar_img_label = correct_classified(DNN, x_test, y_test)\n",
    "for eps in epsilons:\n",
    "  x_perturb_tar = generate_perturb_target_img(DNN, x_test, y_test, eps)\n",
    "  acc_tar, y_pred_tar = cal_Perturb_classify_acc(DNN, x_perturb_tar, y_test)\n",
    "  acc_target.append(acc_tar[1])\n",
    "  \n",
    "  x_perturb_correct_tar_classified = generate_perturb_target_correct_img(DNN, correct_classified_tar_img, correct_classified_tar_img_label, eps)\n",
    "  acc_perturb_tar_classified, y_correct_tar_pred = cal_Perturb_correct_classify_tar_acc(DNN, x_perturb_correct_tar_classified, correct_classified_tar_img_label)\n",
    "  success_target_attack_rate.append(acc_perturb_tar_classified)"
   ]
  },
  {
   "cell_type": "code",
   "execution_count": 22,
   "metadata": {
    "colab": {
     "base_uri": "https://localhost:8080/",
     "height": 311
    },
    "id": "vq38iASULjIu",
    "outputId": "d774292e-b2b9-413f-c286-2f2d02dfa157"
   },
   "outputs": [
    {
     "data": {
      "text/plain": [
       "Text(0.5, 1.0, 'Target Attack')"
      ]
     },
     "execution_count": 22,
     "metadata": {},
     "output_type": "execute_result"
    },
    {
     "data": {
      "image/png": "[encoded data removed]",
      "text/plain": [
       "<Figure size 432x288 with 1 Axes>"
      ]
     },
     "metadata": {
      "needs_background": "light"
     },
     "output_type": "display_data"
    }
   ],
   "source": [
    "plt.plot(epsilons,acc_target,marker='x')\n",
    "plt.plot(epsilons,success_target_attack_rate,marker='*')\n",
    "plt.xlabel('epsilon')\n",
    "plt.ylabel('rate')\n",
    "plt.legend(['DNN accuracy','success target attack rate'])\n",
    "plt.title(\"Target Attack\")"
   ]
  },
  {
   "cell_type": "code",
   "execution_count": 23,
   "metadata": {
    "colab": {
     "base_uri": "https://localhost:8080/"
    },
    "id": "TjaBEtGWi9Bv",
    "outputId": "ae651395-b38b-4a1b-aa3a-11cc06a20267"
   },
   "outputs": [
    {
     "name": "stdout",
     "output_type": "stream",
     "text": [
      "Target Attack\n",
      "epsilon: 0.00392156862745098, success attack rate: 0.0007158196134574087\n",
      "epsilon: 0.0196078431372549, success attack rate: 0.005215257183761121\n",
      "epsilon: 0.0392156862745098, success attack rate: 0.02208814807240004\n",
      "epsilon: 0.0784313725490196, success attack rate: 0.22241537989569485\n",
      "epsilon: 0.11764705882352941, success attack rate: 0.4388996829941712\n",
      "epsilon: 0.1568627450980392, success attack rate: 0.5783822476735863\n",
      "epsilon: 0.19607843137254902, success attack rate: 0.6582472645464772\n"
     ]
    }
   ],
   "source": [
    "print(\"Target Attack\")\n",
    "for i, eps in enumerate(epsilons):\n",
    "  print(\"epsilon: {}, success attack rate: {}\".format(eps, success_target_attack_rate[i]))"
   ]
  },
  {
   "cell_type": "markdown",
   "metadata": {
    "id": "Y1HR9zMEdcvD"
   },
   "source": [
    "## Part 03: Adversarial Retraining against Untargeted FGSM Attacks\n",
    "\n",
    "For this part, we are assuming $\\epsilon$ = 10/255. </br>\n",
    "To defend against adversarial perturbations, the defender adversarially perturbs each image in her training set using the attacker’s strategy in Step 1. She then appends the adversarially perturbed images to her training set, but using their correct labels. Then, the defender retrains the baseline DNN with a new training dataset containing both images from the original training dataset and the new adversarially perturbed images. We call the new DNN the adversarially retrained DNN."
   ]
  },
  {
   "cell_type": "code",
   "execution_count": 24,
   "metadata": {
    "id": "oYJ_jy30dlyY"
   },
   "outputs": [],
   "source": [
    "epsilon = 10/255\n",
    "x_perturb_retrain = generate_perturb_untarget_img(DNN, x_train, y_train, epsilon)\n",
    "y_retrain = np.hstack((y_train, y_train))\n",
    "x_retrain = []\n",
    "for re in x_perturb_retrain:\n",
    "  x_retrain = np.vstack((x_train, re))"
   ]
  },
  {
   "cell_type": "code",
   "execution_count": 25,
   "metadata": {
    "colab": {
     "base_uri": "https://localhost:8080/"
    },
    "id": "3_qSUo_IgJW1",
    "outputId": "0417078d-d414-47ff-b9e3-a47c77f6af02"
   },
   "outputs": [
    {
     "name": "stdout",
     "output_type": "stream",
     "text": [
      "120000\n"
     ]
    }
   ],
   "source": [
    "print(len(x_retrain))"
   ]
  },
  {
   "cell_type": "code",
   "execution_count": 26,
   "metadata": {
    "id": "YvDJYq4EenWs"
   },
   "outputs": [],
   "source": [
    "DNN_retrain = tf.keras.models.Sequential([\n",
    "  tf.keras.layers.Flatten(input_shape=(28, 28)),\n",
    "  tf.keras.layers.Dense(300, activation='relu'),\n",
    "  tf.keras.layers.Dense(10)                                 \n",
    "])"
   ]
  },
  {
   "cell_type": "code",
   "execution_count": 27,
   "metadata": {
    "id": "j-vzqVcCfxYM"
   },
   "outputs": [],
   "source": [
    "DNN_retrain.compile(optimizer='adam', loss=loss_fn,metrics=['accuracy'])"
   ]
  },
  {
   "cell_type": "code",
   "execution_count": 28,
   "metadata": {
    "colab": {
     "base_uri": "https://localhost:8080/"
    },
    "id": "Yupv9mCxf4Ds",
    "outputId": "798567ff-d1a1-42e1-9aa0-23c5cbdddab6"
   },
   "outputs": [
    {
     "name": "stdout",
     "output_type": "stream",
     "text": [
      "Epoch 1/5\n",
      "3750/3750 [==============================] - 13s 3ms/step - loss: 0.1348 - accuracy: 0.9607\n",
      "Epoch 2/5\n",
      "3750/3750 [==============================] - 13s 3ms/step - loss: 0.0447 - accuracy: 0.9860\n",
      "Epoch 3/5\n",
      "3750/3750 [==============================] - 14s 4ms/step - loss: 0.0283 - accuracy: 0.9906\n",
      "Epoch 4/5\n",
      "3750/3750 [==============================] - 13s 4ms/step - loss: 0.0198 - accuracy: 0.9935\n",
      "Epoch 5/5\n",
      "3750/3750 [==============================] - 14s 4ms/step - loss: 0.0153 - accuracy: 0.9947\n"
     ]
    },
    {
     "data": {
      "text/plain": [
       "<keras.callbacks.History at 0x7f00aa48a990>"
      ]
     },
     "execution_count": 28,
     "metadata": {},
     "output_type": "execute_result"
    }
   ],
   "source": [
    "DNN_retrain.fit(x_retrain, y_retrain, epochs=5)"
   ]
  },
  {
   "cell_type": "code",
   "execution_count": 29,
   "metadata": {
    "colab": {
     "base_uri": "https://localhost:8080/"
    },
    "id": "UAXD1gGbf-wM",
    "outputId": "7fa5a19b-ca5b-4efa-912e-3a45cdb81cbe"
   },
   "outputs": [
    {
     "name": "stdout",
     "output_type": "stream",
     "text": [
      "313/313 - 1s - loss: 0.0849 - accuracy: 0.9791 - 614ms/epoch - 2ms/step\n"
     ]
    }
   ],
   "source": [
    "res_retrain = DNN_retrain.evaluate(x_test,  y_test, verbose=2)"
   ]
  },
  {
   "cell_type": "markdown",
   "metadata": {
    "id": "gyqn1YhNlQEu"
   },
   "source": [
    "Get perturb image from DNN_retrain"
   ]
  },
  {
   "cell_type": "code",
   "execution_count": 30,
   "metadata": {
    "colab": {
     "base_uri": "https://localhost:8080/"
    },
    "id": "zfzWm9QDgvnk",
    "outputId": "731ac8fa-093b-44c5-daac-f642c09ebfcb"
   },
   "outputs": [
    {
     "name": "stdout",
     "output_type": "stream",
     "text": [
      "313/313 - 1s - loss: 7.7462 - accuracy: 0.2300 - 714ms/epoch - 2ms/step\n"
     ]
    }
   ],
   "source": [
    "numOfCorrectClassified, correct_classified_img, correct_classified_img_label = correct_classified(DNN, x_test, y_test)\n",
    "x_perturb = generate_perturb_untarget_img(DNN_retrain, x_test, y_test, epsilon)\n",
    "acc_retrain, y_pred_retrain = cal_Perturb_classify_acc(DNN_retrain, x_perturb, y_test)\n",
    "\n",
    "x_perturb_correct_classified = generate_perturb_untarget_correct_img(DNN_retrain, correct_classified_img, correct_classified_img_label, epsilon)\n",
    "acc_perturb_classified, y_correct_pred = cal_Perturb_correct_classify_acc(DNN_retrain, x_perturb_correct_classified, correct_classified_img_label)"
   ]
  },
  {
   "cell_type": "code",
   "execution_count": 31,
   "metadata": {
    "colab": {
     "base_uri": "https://localhost:8080/"
    },
    "id": "gEj5Y3-2hNxf",
    "outputId": "3e8f7ee9-90d8-478e-9430-b1a380a8da56"
   },
   "outputs": [
    {
     "name": "stdout",
     "output_type": "stream",
     "text": [
      "The success attack rate is: 0.7648021270068515\n"
     ]
    }
   ],
   "source": [
    "print(\"The success attack rate is: {}\".format(1-acc_perturb_classified))"
   ]
  },
  {
   "cell_type": "markdown",
   "metadata": {
    "id": "33-_Y7mClV92"
   },
   "source": [
    "Get perturb images from baseline DNN"
   ]
  },
  {
   "cell_type": "code",
   "execution_count": 32,
   "metadata": {
    "colab": {
     "base_uri": "https://localhost:8080/"
    },
    "id": "VieRyJVRkbHx",
    "outputId": "3cfac756-96d9-466f-b887-bee1347f660e"
   },
   "outputs": [
    {
     "name": "stdout",
     "output_type": "stream",
     "text": [
      "313/313 - 1s - loss: 0.0187 - accuracy: 0.9954 - 619ms/epoch - 2ms/step\n"
     ]
    }
   ],
   "source": [
    "x_perturb_DNN = generate_perturb_untarget_img(DNN, x_test, y_test, epsilon)\n",
    "acc_retrain1, y_pred_retrain1 = cal_Perturb_classify_acc(DNN_retrain, x_perturb_DNN, y_test)\n",
    "\n",
    "x_perturb_correct_classified_DNN = generate_perturb_untarget_correct_img(DNN, correct_classified_img, correct_classified_img_label, epsilon)\n",
    "acc_perturb_classified1, y_correct_pred1 = cal_Perturb_correct_classify_acc(DNN_retrain, x_perturb_correct_classified_DNN, correct_classified_img_label)"
   ]
  },
  {
   "cell_type": "code",
   "execution_count": 33,
   "metadata": {
    "colab": {
     "base_uri": "https://localhost:8080/"
    },
    "id": "G-443L1Hk9eq",
    "outputId": "f7de8a4d-c6bf-43f3-b377-33a8d9f44f76"
   },
   "outputs": [
    {
     "name": "stdout",
     "output_type": "stream",
     "text": [
      "The success attack rate is: 0.0009203395030166206\n"
     ]
    }
   ],
   "source": [
    "print(\"The success attack rate is: {}\".format(1-acc_perturb_classified1))"
   ]
  },
  {
   "cell_type": "markdown",
   "metadata": {
    "id": "pbxS0aUZ1SrR"
   },
   "source": [
    "We can see that the success attack rate is high if we use the images that are generated from DNN_retrain. Therefore, making it less robust. However, if the images are generated from the baseline DNN then DNN_retrain works well."
   ]
  },
  {
   "cell_type": "markdown",
   "metadata": {
    "id": "t_P1i3KrqHWq"
   },
   "source": [
    "## Part 04: Challenge\n",
    "\n",
    "We will be implementing IFGS here which stands for Iterative Fast Gradient Sign methods. IFGS will perturb each pixel with a small amount for multiple times. IFGS methods are capable of generating adversarial inputs with smaller distortion when compared to basic FGS methods. For non-targeted attacks, the formula will be $-$\n",
    "$$\n",
    "x_0'=x,x_{N+1}'\\leftarrow clip_{\\epsilon}(x_N'+\\alpha sign(\\triangledown \\mathcal{l}_{F,y^*}(x)))\n",
    "$$\n",
    "\n"
   ]
  },
  {
   "cell_type": "code",
   "execution_count": 34,
   "metadata": {
    "colab": {
     "base_uri": "https://localhost:8080/"
    },
    "id": "5NWjpY6Ymls6",
    "outputId": "c2723da2-38c2-4acd-b08d-a530d7bc58ba"
   },
   "outputs": [
    {
     "name": "stdout",
     "output_type": "stream",
     "text": [
      "Downloading data from https://storage.googleapis.com/tensorflow/tf-keras-datasets/train-labels-idx1-ubyte.gz\n",
      "32768/29515 [=================================] - 0s 0us/step\n",
      "40960/29515 [=========================================] - 0s 0us/step\n",
      "Downloading data from https://storage.googleapis.com/tensorflow/tf-keras-datasets/train-images-idx3-ubyte.gz\n",
      "26427392/26421880 [==============================] - 0s 0us/step\n",
      "26435584/26421880 [==============================] - 0s 0us/step\n",
      "Downloading data from https://storage.googleapis.com/tensorflow/tf-keras-datasets/t10k-labels-idx1-ubyte.gz\n",
      "16384/5148 [===============================================================================================] - 0s 0us/step\n",
      "Downloading data from https://storage.googleapis.com/tensorflow/tf-keras-datasets/t10k-images-idx3-ubyte.gz\n",
      "4423680/4422102 [==============================] - 0s 0us/step\n",
      "4431872/4422102 [==============================] - 0s 0us/step\n"
     ]
    }
   ],
   "source": [
    "fashionMnist = tf.keras.datasets.fashion_mnist\n",
    "\n",
    "(x_train_fashion, y_train_fashion), (x_test_fashion, y_test_fashion) = fashionMnist.load_data()\n",
    "x_train_fashion, x_test_fashion = x_train_fashion / 255.0, x_test_fashion / 255.0"
   ]
  },
  {
   "cell_type": "code",
   "execution_count": 35,
   "metadata": {
    "colab": {
     "base_uri": "https://localhost:8080/"
    },
    "id": "6N14_fUtqocx",
    "outputId": "27286482-1dd4-49f2-dd11-3ba6ff1b240f"
   },
   "outputs": [
    {
     "name": "stdout",
     "output_type": "stream",
     "text": [
      "(60000, 28, 28)\n",
      "(10000, 28, 28)\n"
     ]
    }
   ],
   "source": [
    "print(x_train_fashion.shape)\n",
    "print(x_test_fashion.shape)"
   ]
  },
  {
   "cell_type": "code",
   "execution_count": 36,
   "metadata": {
    "colab": {
     "base_uri": "https://localhost:8080/",
     "height": 482
    },
    "id": "imBG6__3qy0R",
    "outputId": "a4305821-6d1f-432e-cd54-7567ff071798"
   },
   "outputs": [
    {
     "data": {
      "image/png": "[encoded data removed]",
      "text/plain": [
       "<Figure size 720x576 with 9 Axes>"
      ]
     },
     "metadata": {
      "needs_background": "light"
     },
     "output_type": "display_data"
    }
   ],
   "source": [
    "figure = plt.figure(figsize=(10,8))\n",
    "cols, rows = 3,3\n",
    "for i in range(1, cols*rows+1):\n",
    "  index = np.random.randint(x_train_fashion.shape[0], size=1)\n",
    "  img, label = (x_train_fashion[index], y_train_fashion[index])\n",
    "  figure.add_subplot(rows, cols, i)\n",
    "  plt.title(\"true label: {}\".format(label))\n",
    "  plt.axis(\"off\")\n",
    "  plt.imshow(img.squeeze(), cmap=\"gray\")\n",
    "plt.show()"
   ]
  },
  {
   "cell_type": "code",
   "execution_count": 37,
   "metadata": {
    "id": "JZPZQEyZq7xB"
   },
   "outputs": [],
   "source": [
    "DNN_fashion = tf.keras.models.Sequential([\n",
    "  tf.keras.layers.Flatten(input_shape=(28, 28)),\n",
    "  tf.keras.layers.Dense(300, activation='relu'),\n",
    "  tf.keras.layers.Dense(10)                                 \n",
    "])"
   ]
  },
  {
   "cell_type": "code",
   "execution_count": 38,
   "metadata": {
    "colab": {
     "base_uri": "https://localhost:8080/"
    },
    "id": "JwNxNrO6rDvR",
    "outputId": "40062885-4e52-4401-acef-f5400a778574"
   },
   "outputs": [
    {
     "name": "stdout",
     "output_type": "stream",
     "text": [
      "Epoch 1/5\n",
      "1875/1875 [==============================] - 7s 3ms/step - loss: 0.4833 - accuracy: 0.8288\n",
      "Epoch 2/5\n",
      "1875/1875 [==============================] - 6s 3ms/step - loss: 0.3654 - accuracy: 0.8665\n",
      "Epoch 3/5\n",
      "1875/1875 [==============================] - 6s 3ms/step - loss: 0.3269 - accuracy: 0.8806\n",
      "Epoch 4/5\n",
      "1875/1875 [==============================] - 7s 3ms/step - loss: 0.3026 - accuracy: 0.8876\n",
      "Epoch 5/5\n",
      "1875/1875 [==============================] - 7s 4ms/step - loss: 0.2848 - accuracy: 0.8941\n"
     ]
    },
    {
     "data": {
      "text/plain": [
       "<keras.callbacks.History at 0x7f00a84663d0>"
      ]
     },
     "execution_count": 38,
     "metadata": {},
     "output_type": "execute_result"
    }
   ],
   "source": [
    "DNN_fashion.compile(optimizer='adam', loss=loss_fn,metrics=['accuracy'])\n",
    "DNN_fashion.fit(x_train_fashion, y_train_fashion, epochs=5)"
   ]
  },
  {
   "cell_type": "code",
   "execution_count": 39,
   "metadata": {
    "colab": {
     "base_uri": "https://localhost:8080/"
    },
    "id": "zQd7nHBjrPOJ",
    "outputId": "23c92ae1-efc5-4f03-970a-c7dacae79593"
   },
   "outputs": [
    {
     "name": "stdout",
     "output_type": "stream",
     "text": [
      "313/313 - 1s - loss: 0.3441 - accuracy: 0.8780 - 614ms/epoch - 2ms/step\n"
     ]
    }
   ],
   "source": [
    "res = DNN_fashion.evaluate(x_test_fashion,  y_test_fashion, verbose=2)"
   ]
  },
  {
   "cell_type": "code",
   "execution_count": 40,
   "metadata": {
    "id": "LPPQsZoWrV-0"
   },
   "outputs": [],
   "source": [
    "def generate_perturb_untarget_im_iter(iteration, model, X, Y, epislon):\n",
    "  x_perturb = [] \n",
    "  x_tensor = tf.convert_to_tensor(X, dtype=tf.float32)\n",
    "  for i in range(iteration):\n",
    "    \n",
    "    with tf.GradientTape() as tape:\n",
    "      tape.watch(x_tensor)\n",
    "      pred = model(x_tensor)\n",
    "      loss = loss_fn(Y, pred)\n",
    "    grad = tape.gradient(loss, x_tensor)\n",
    "    grad_sign = tf.sign(grad)\n",
    "    x_tensor = tf.clip_by_value((x_tensor + epislon * grad_sign), clip_value_min = 0, clip_value_max = 1)\n",
    "  x_perturb.append(x_tensor)\n",
    "  return x_perturb"
   ]
  },
  {
   "cell_type": "code",
   "execution_count": 41,
   "metadata": {
    "id": "4Xcj_7UisHQ5"
   },
   "outputs": [],
   "source": [
    "def calRMSE(adv_img, ori_img):\n",
    "  RMSE = []\n",
    "  for i, img in enumerate(adv_img):\n",
    "    rmse = np.sqrt(np.sum((img-ori_img[i])**2)/(28*28))\n",
    "    RMSE.append(rmse)\n",
    "    \n",
    "  return np.sum(RMSE)/len(RMSE)"
   ]
  },
  {
   "cell_type": "code",
   "execution_count": 42,
   "metadata": {
    "id": "tgueaHZSs292"
   },
   "outputs": [],
   "source": [
    "x_perturb_fashion = generate_perturb_untarget_im_iter(5, DNN_fashion, x_test_fashion, y_test_fashion, 1/255)"
   ]
  },
  {
   "cell_type": "code",
   "execution_count": 43,
   "metadata": {
    "id": "k_jUzgrJtHoh"
   },
   "outputs": [],
   "source": [
    "RMSE = calRMSE(x_perturb_fashion[0], x_test_fashion)"
   ]
  },
  {
   "cell_type": "code",
   "execution_count": 44,
   "metadata": {
    "colab": {
     "base_uri": "https://localhost:8080/"
    },
    "id": "yrODQEtQtdFL",
    "outputId": "5081f4ca-1155-43d3-a272-17b65c410a8c"
   },
   "outputs": [
    {
     "name": "stdout",
     "output_type": "stream",
     "text": [
      "The RMSE of original images and perturb images is: 0.01668652811431063\n"
     ]
    }
   ],
   "source": [
    "print(\"The RMSE of original images and perturb images is: {}\".format(RMSE))"
   ]
  },
  {
   "cell_type": "markdown",
   "metadata": {
    "id": "9VgteroBmTN6"
   },
   "source": [
    "The RMSE is less than 5/255 = 0.0196. So, we will do 5 iterations and when epsilon = 1/255."
   ]
  },
  {
   "cell_type": "code",
   "execution_count": 45,
   "metadata": {
    "colab": {
     "base_uri": "https://localhost:8080/",
     "height": 301
    },
    "id": "cExlHH-qvl0q",
    "outputId": "4ca35fee-d13b-463a-e974-31115a9353ff"
   },
   "outputs": [
    {
     "data": {
      "image/png": "[encoded data removed]",
      "text/plain": [
       "<Figure size 720x576 with 2 Axes>"
      ]
     },
     "metadata": {
      "needs_background": "light"
     },
     "output_type": "display_data"
    }
   ],
   "source": [
    "figure = plt.figure(figsize=(10,8))\n",
    "index = np.random.randint(x_test_fashion.shape[0], size=1)\n",
    "img1, label1 = (x_test_fashion[index], y_test_fashion[index])\n",
    "figure.add_subplot(1, 2, 1)\n",
    "plt.title(\"ori_img\")\n",
    "plt.axis(\"off\")\n",
    "plt.imshow(img1.squeeze(), cmap=\"gray\")\n",
    "img2, label2 = (np.array(x_perturb_fashion[0][index[0]]), y_test_fashion[index])\n",
    "figure.add_subplot(1, 2, 2)\n",
    "plt.title(\"perturb img\")\n",
    "plt.axis(\"off\")\n",
    "plt.imshow(img2.squeeze(), cmap=\"gray\")\n",
    "plt.show()"
   ]
  },
  {
   "cell_type": "code",
   "execution_count": 45,
   "metadata": {
    "id": "iKPL9mXyxtjI"
   },
   "outputs": [],
   "source": []
  }
 ],
 "metadata": {
  "colab": {
   "name": "Lab2_SP5894.ipynb",
   "provenance": [],
   "toc_visible": true
  },
  "kernelspec": {
   "display_name": "Python 3",
   "language": "python",
   "name": "python3"
  },
  "language_info": {
   "codemirror_mode": {
    "name": "ipython",
    "version": 3
   },
   "file_extension": ".py",
   "mimetype": "text/x-python",
   "name": "python",
   "nbconvert_exporter": "python",
   "pygments_lexer": "ipython3",
   "version": "3.9.1"
  }
 },
 "nbformat": 4,
 "nbformat_minor": 1
}
